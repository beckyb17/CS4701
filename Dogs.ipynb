{
 "cells": [
  {
   "cell_type": "code",
   "execution_count": 1,
   "metadata": {},
   "outputs": [
    {
     "name": "stderr",
     "output_type": "stream",
     "text": [
      "Matplotlib is building the font cache; this may take a moment.\n"
     ]
    }
   ],
   "source": [
    "#most code used from following https://www.datacamp.com/community/tutorials/convolutional-neural-networks-python\n",
    "\n",
    "import tensorflow as tf\n",
    "import tensorflow_datasets as tfds\n",
    "import numpy as np\n",
    "from tensorflow.keras.datasets import cifar100\n",
    "from tensorflow.keras.utils import to_categorical\n",
    "from sklearn.model_selection import train_test_split\n",
    "import matplotlib.pyplot as plt"
   ]
  },
  {
   "cell_type": "code",
   "execution_count": 14,
   "metadata": {},
   "outputs": [],
   "source": [
    "#train = tfds.load('stanford_dogs', split=\"train\")\n",
    "#test = tfds.load('stanford_dogs', split=\"test\")"
   ]
  },
  {
   "cell_type": "code",
   "execution_count": 10,
   "metadata": {},
   "outputs": [],
   "source": [
    "#trying with a keras dataset first b/c the tensorflow one was being weird\n",
    "#this is a dataset that classifies 100 objects (includes flowers, animals, plants, and cars)\n",
    "(x_train, y_train), (x_test, y_test) = cifar100.load_data()"
   ]
  },
  {
   "cell_type": "code",
   "execution_count": 11,
   "metadata": {},
   "outputs": [],
   "source": [
    "#print(type(train))\n",
    "#print(type(test))\n",
    "\n",
    "#train_np = tfds.as_numpy(train)\n",
    "#test_np = tfds.as_numpy(test)\n",
    "\n",
    "#print(type(train_np))\n",
    "#x_train, y_train = train_np[\"image\"], train_np[\"label\"]\n",
    "#x_test, y_test = test_np[\"image\"], test_np[\"label\"]"
   ]
  },
  {
   "cell_type": "code",
   "execution_count": 12,
   "metadata": {},
   "outputs": [
    {
     "name": "stdout",
     "output_type": "stream",
     "text": [
      "(50000, 32, 32, 3) (50000, 1)\n",
      "(10000, 32, 32, 3) (10000, 1)\n",
      "<class 'numpy.ndarray'>\n"
     ]
    }
   ],
   "source": [
    "print(x_train.shape, y_train.shape)\n",
    "print(x_test.shape, y_test.shape)\n",
    "#50,000 training samples, each have a 32x32x3 dimension\n",
    "#10,000 test samples\n",
    "print(type(x_train))"
   ]
  },
  {
   "cell_type": "code",
   "execution_count": 13,
   "metadata": {},
   "outputs": [
    {
     "name": "stdout",
     "output_type": "stream",
     "text": [
      "Number of classes: 100\n"
     ]
    }
   ],
   "source": [
    "print(\"Number of classes: \" + str(len(np.unique(y_train))))"
   ]
  },
  {
   "cell_type": "code",
   "execution_count": 14,
   "metadata": {},
   "outputs": [
    {
     "data": {
      "text/plain": [
       "Text(0.5, 1.0, 'Ground Truth : [49]')"
      ]
     },
     "execution_count": 14,
     "metadata": {},
     "output_type": "execute_result"
    },
    {
     "data": {
      "image/png": "[encoded data removed]",
      "text/plain": [
       "<Figure size 360x360 with 2 Axes>"
      ]
     },
     "metadata": {
      "needs_background": "light"
     },
     "output_type": "display_data"
    }
   ],
   "source": [
    "plt.figure(figsize=[5,5])\n",
    "\n",
    "# Display the first image in training data\n",
    "plt.subplot(121)\n",
    "plt.imshow(x_train[0,:,:], cmap='gray')\n",
    "plt.title(\"Ground Truth : {}\".format(y_train[0]))\n",
    "\n",
    "# Display the first image in testing data\n",
    "plt.subplot(122)\n",
    "plt.imshow(x_test[0,:,:], cmap='gray')\n",
    "plt.title(\"Ground Truth : {}\".format(y_test[0]))"
   ]
  },
  {
   "cell_type": "code",
   "execution_count": 15,
   "metadata": {},
   "outputs": [
    {
     "name": "stdout",
     "output_type": "stream",
     "text": [
      "(50000, 32, 32, 3) (50000, 1)\n",
      "(50000, 32, 32, 3) (50000, 1)\n",
      "(50000, 32, 32, 3) (50000, 1)\n"
     ]
    }
   ],
   "source": [
    "print(x_train.shape, y_train.shape)\n",
    "\n",
    "#convert each image into a 32x32x3 matrix (reshape to 4d)\n",
    "x_train = x_train.reshape(-1, 32, 32, 3)\n",
    "x_test = x_test.reshape(-1, 32, 32, 3)\n",
    "\n",
    "print(x_train.shape, y_train.shape)\n",
    "\n",
    "#convert data to float32 and rescale the pixel values to 1-0\n",
    "x_train = (x_train.astype('float32'))/255\n",
    "x_test = (x_test.astype('float32'))/255\n",
    "\n",
    "#use one-hot encoding to change the labels to numbers\n",
    "#each label is a vector w/ 100 entries and will have a 1 in one entry and 0 in all the others (1 is the category)\n",
    "y_train_encode = to_categorical(y_train)\n",
    "y_test_encode = to_categorical(y_test)\n",
    "\n",
    "print(x_train.shape, y_train.shape)"
   ]
  },
  {
   "cell_type": "code",
   "execution_count": 16,
   "metadata": {},
   "outputs": [],
   "source": [
    "#separate training and validate sets\n",
    "x_train, x_valid, train_label, valid_label = train_test_split(x_train, y_train_encode, test_size = .2)\n",
    "\n",
    "#end of data preprocessing"
   ]
  },
  {
   "cell_type": "code",
   "execution_count": 42,
   "metadata": {},
   "outputs": [],
   "source": [
    "from tensorflow.python.keras.models import Sequential,Input,Model\n",
    "from tensorflow.keras.layers import Dense, Dropout, Flatten\n",
    "from tensorflow.keras.layers import Conv2D, MaxPooling2D\n",
    "from tensorflow.python.keras.layers.normalization import BatchNormalization\n",
    "from tensorflow.python.keras.layers.advanced_activations import LeakyReLU\n",
    "from tensorflow.keras.losses import categorical_crossentropy\n",
    "from tensorflow.keras.optimizers import Adam"
   ]
  },
  {
   "cell_type": "code",
   "execution_count": 22,
   "metadata": {},
   "outputs": [],
   "source": [
    "batch_size = 64\n",
    "epochs = 20\n",
    "num_classes = 100"
   ]
  },
  {
   "cell_type": "code",
   "execution_count": 24,
   "metadata": {},
   "outputs": [],
   "source": [
    "#create a sequential model and add layers\n",
    "model = Sequential()\n",
    "model.add(Conv2D(32, kernel_size = (3,3), activation = 'linear', input_shape = (32,32,3), padding = 'same'))\n",
    "#add the activation function\n",
    "model.add(LeakyReLU(alpha=.1))\n",
    "#add a max pooling layer\n",
    "model.add(MaxPooling2D((2, 2),padding='same'))\n",
    "model.add(Conv2D(64, (3, 3), activation='linear',padding='same'))\n",
    "model.add(LeakyReLU(alpha=0.1))\n",
    "model.add(MaxPooling2D(pool_size=(2, 2),padding='same'))\n",
    "model.add(Conv2D(128, (3, 3), activation='linear',padding='same'))\n",
    "model.add(LeakyReLU(alpha=0.1))                  \n",
    "model.add(MaxPooling2D(pool_size=(2, 2),padding='same'))\n",
    "#last layer is a dense layer and a softmax activation fn with 100 classes\n",
    "model.add(Flatten())\n",
    "model.add(Dense(128, activation='linear'))\n",
    "model.add(LeakyReLU(alpha=0.1))                  \n",
    "model.add(Dense(num_classes, activation='softmax'))"
   ]
  },
  {
   "cell_type": "code",
   "execution_count": 43,
   "metadata": {},
   "outputs": [],
   "source": [
    "#compile the model. loss function is categorical crossentropy b/c we have multiple categories\n",
    "model.compile(loss=categorical_crossentropy, optimizer=Adam(), metrics=['accuracy'])"
   ]
  },
  {
   "cell_type": "code",
   "execution_count": 44,
   "metadata": {},
   "outputs": [
    {
     "name": "stdout",
     "output_type": "stream",
     "text": [
      "Model: \"sequential_1\"\n",
      "_________________________________________________________________\n",
      "Layer (type)                 Output Shape              Param #   \n",
      "=================================================================\n",
      "conv2d_1 (Conv2D)            (None, 32, 32, 32)        896       \n",
      "_________________________________________________________________\n",
      "leaky_re_lu_1 (LeakyReLU)    (None, 32, 32, 32)        0         \n",
      "_________________________________________________________________\n",
      "max_pooling2d_1 (MaxPooling2 (None, 16, 16, 32)        0         \n",
      "_________________________________________________________________\n",
      "conv2d_2 (Conv2D)            (None, 16, 16, 64)        18496     \n",
      "_________________________________________________________________\n",
      "leaky_re_lu_2 (LeakyReLU)    (None, 16, 16, 64)        0         \n",
      "_________________________________________________________________\n",
      "max_pooling2d_2 (MaxPooling2 (None, 8, 8, 64)          0         \n",
      "_________________________________________________________________\n",
      "conv2d_3 (Conv2D)            (None, 8, 8, 128)         73856     \n",
      "_________________________________________________________________\n",
      "leaky_re_lu_3 (LeakyReLU)    (None, 8, 8, 128)         0         \n",
      "_________________________________________________________________\n",
      "max_pooling2d_3 (MaxPooling2 (None, 4, 4, 128)         0         \n",
      "_________________________________________________________________\n",
      "flatten (Flatten)            (None, 2048)              0         \n",
      "_________________________________________________________________\n",
      "dense (Dense)                (None, 128)               262272    \n",
      "_________________________________________________________________\n",
      "leaky_re_lu_4 (LeakyReLU)    (None, 128)               0         \n",
      "_________________________________________________________________\n",
      "dense_1 (Dense)              (None, 100)               12900     \n",
      "=================================================================\n",
      "Total params: 368,420\n",
      "Trainable params: 368,420\n",
      "Non-trainable params: 0\n",
      "_________________________________________________________________\n"
     ]
    }
   ],
   "source": [
    "model.summary()"
   ]
  },
  {
   "cell_type": "code",
   "execution_count": 45,
   "metadata": {},
   "outputs": [
    {
     "name": "stdout",
     "output_type": "stream",
     "text": [
      "Epoch 1/20\n",
      "625/625 [==============================] - 46s 72ms/step - loss: 4.1126 - accuracy: 0.0778 - val_loss: 3.1313 - val_accuracy: 0.2357\n",
      "Epoch 2/20\n",
      "625/625 [==============================] - 45s 72ms/step - loss: 2.9669 - accuracy: 0.2657 - val_loss: 2.6831 - val_accuracy: 0.3285\n",
      "Epoch 3/20\n",
      "625/625 [==============================] - 41s 66ms/step - loss: 2.4580 - accuracy: 0.3737 - val_loss: 2.5563 - val_accuracy: 0.3523\n",
      "Epoch 4/20\n",
      "625/625 [==============================] - 42s 67ms/step - loss: 2.1167 - accuracy: 0.4441 - val_loss: 2.4543 - val_accuracy: 0.3849\n",
      "Epoch 5/20\n",
      "625/625 [==============================] - 43s 69ms/step - loss: 1.8430 - accuracy: 0.5121 - val_loss: 2.3668 - val_accuracy: 0.4028\n",
      "Epoch 6/20\n",
      "625/625 [==============================] - 44s 70ms/step - loss: 1.5904 - accuracy: 0.5684 - val_loss: 2.3739 - val_accuracy: 0.4013\n",
      "Epoch 7/20\n",
      "625/625 [==============================] - 44s 70ms/step - loss: 1.3540 - accuracy: 0.6258 - val_loss: 2.4824 - val_accuracy: 0.3994\n",
      "Epoch 8/20\n",
      "625/625 [==============================] - 43s 69ms/step - loss: 1.1401 - accuracy: 0.6805 - val_loss: 2.5622 - val_accuracy: 0.4082\n",
      "Epoch 9/20\n",
      "625/625 [==============================] - 42s 67ms/step - loss: 0.9413 - accuracy: 0.7290 - val_loss: 2.7611 - val_accuracy: 0.4006\n",
      "Epoch 10/20\n",
      "625/625 [==============================] - 45s 71ms/step - loss: 0.7571 - accuracy: 0.7810 - val_loss: 2.9887 - val_accuracy: 0.4055\n",
      "Epoch 11/20\n",
      "625/625 [==============================] - 42s 68ms/step - loss: 0.6048 - accuracy: 0.8223 - val_loss: 3.2555 - val_accuracy: 0.4029\n",
      "Epoch 12/20\n",
      "625/625 [==============================] - 42s 67ms/step - loss: 0.4757 - accuracy: 0.8589 - val_loss: 3.5900 - val_accuracy: 0.3885\n",
      "Epoch 13/20\n",
      "625/625 [==============================] - 47s 75ms/step - loss: 0.3904 - accuracy: 0.8792 - val_loss: 3.8671 - val_accuracy: 0.3966\n",
      "Epoch 14/20\n",
      "625/625 [==============================] - 43s 69ms/step - loss: 0.3184 - accuracy: 0.9005 - val_loss: 4.3193 - val_accuracy: 0.3845\n",
      "Epoch 15/20\n",
      "625/625 [==============================] - 42s 66ms/step - loss: 0.2808 - accuracy: 0.9100 - val_loss: 4.5515 - val_accuracy: 0.3877\n",
      "Epoch 16/20\n",
      "625/625 [==============================] - 43s 70ms/step - loss: 0.2460 - accuracy: 0.9203 - val_loss: 4.9144 - val_accuracy: 0.3822\n",
      "Epoch 17/20\n",
      "625/625 [==============================] - 43s 69ms/step - loss: 0.2103 - accuracy: 0.9317 - val_loss: 5.1700 - val_accuracy: 0.3783\n",
      "Epoch 18/20\n",
      "625/625 [==============================] - 42s 68ms/step - loss: 0.1936 - accuracy: 0.9365 - val_loss: 5.2115 - val_accuracy: 0.3774\n",
      "Epoch 19/20\n",
      "625/625 [==============================] - 43s 69ms/step - loss: 0.1862 - accuracy: 0.9387 - val_loss: 5.5001 - val_accuracy: 0.3664\n",
      "Epoch 20/20\n",
      "625/625 [==============================] - 43s 69ms/step - loss: 0.1716 - accuracy: 0.9447 - val_loss: 5.7264 - val_accuracy: 0.3771\n"
     ]
    }
   ],
   "source": [
    "model_train = model.fit(x_train, train_label, batch_size=batch_size, epochs=epochs, verbose=1, validation_data=(x_valid,valid_label))"
   ]
  },
  {
   "cell_type": "code",
   "execution_count": null,
   "metadata": {},
   "outputs": [],
   "source": []
  }
 ],
 "metadata": {
  "kernelspec": {
   "display_name": "4701env",
   "language": "python",
   "name": "4701env"
  },
  "language_info": {
   "codemirror_mode": {
    "name": "ipython",
    "version": 3
   },
   "file_extension": ".py",
   "mimetype": "text/x-python",
   "name": "python",
   "nbconvert_exporter": "python",
   "pygments_lexer": "ipython3",
   "version": "3.7.6"
  }
 },
 "nbformat": 4,
 "nbformat_minor": 2
}
